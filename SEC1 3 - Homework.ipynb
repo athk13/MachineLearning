{
 "cells": [
  {
   "cell_type": "code",
   "execution_count": 1,
   "id": "1022e4d8",
   "metadata": {},
   "outputs": [],
   "source": [
    "import pandas as pd"
   ]
  },
  {
   "cell_type": "markdown",
   "id": "a98f5070",
   "metadata": {},
   "source": [
    "# 1.) Clean the Apple Data to get a quarterly series of EPS."
   ]
  },
  {
   "cell_type": "code",
   "execution_count": 2,
   "id": "c7f8e883",
   "metadata": {},
   "outputs": [],
   "source": [
    "y = pd.read_csv('AAPL_quarterly_financials.csv')"
   ]
  },
  {
   "cell_type": "code",
   "execution_count": 3,
   "id": "0cf724f7",
   "metadata": {},
   "outputs": [],
   "source": [
    "y.index = y.name"
   ]
  },
  {
   "cell_type": "code",
   "execution_count": 4,
   "id": "5694510c",
   "metadata": {},
   "outputs": [],
   "source": [
    "y = pd.DataFrame(y.loc['BasicEPS', :]).iloc[2:,:]"
   ]
  },
  {
   "cell_type": "code",
   "execution_count": 16,
   "id": "95a7bb4d",
   "metadata": {},
   "outputs": [
    {
     "data": {
      "text/html": [
       "<div>\n",
       "<style scoped>\n",
       "    .dataframe tbody tr th:only-of-type {\n",
       "        vertical-align: middle;\n",
       "    }\n",
       "\n",
       "    .dataframe tbody tr th {\n",
       "        vertical-align: top;\n",
       "    }\n",
       "\n",
       "    .dataframe thead th {\n",
       "        text-align: right;\n",
       "    }\n",
       "</style>\n",
       "<table border=\"1\" class=\"dataframe\">\n",
       "  <thead>\n",
       "    <tr style=\"text-align: right;\">\n",
       "      <th></th>\n",
       "      <th>BasicEPS</th>\n",
       "    </tr>\n",
       "  </thead>\n",
       "  <tbody>\n",
       "    <tr>\n",
       "      <th>09/30/2023</th>\n",
       "      <td>1.47</td>\n",
       "    </tr>\n",
       "    <tr>\n",
       "      <th>06/30/2023</th>\n",
       "      <td>1.27</td>\n",
       "    </tr>\n",
       "    <tr>\n",
       "      <th>03/31/2023</th>\n",
       "      <td>1.53</td>\n",
       "    </tr>\n",
       "    <tr>\n",
       "      <th>12/31/2022</th>\n",
       "      <td>1.89</td>\n",
       "    </tr>\n",
       "    <tr>\n",
       "      <th>09/30/2022</th>\n",
       "      <td>1.29</td>\n",
       "    </tr>\n",
       "  </tbody>\n",
       "</table>\n",
       "</div>"
      ],
      "text/plain": [
       "           BasicEPS\n",
       "09/30/2023     1.47\n",
       "06/30/2023     1.27\n",
       "03/31/2023     1.53\n",
       "12/31/2022     1.89\n",
       "09/30/2022     1.29"
      ]
     },
     "execution_count": 16,
     "metadata": {},
     "output_type": "execute_result"
    }
   ],
   "source": [
    "y.head()"
   ]
  },
  {
   "cell_type": "code",
   "execution_count": 5,
   "id": "397b45e8",
   "metadata": {},
   "outputs": [],
   "source": [
    "y.index = pd.to_datetime(y.index)"
   ]
  },
  {
   "cell_type": "code",
   "execution_count": 6,
   "id": "699b408c",
   "metadata": {},
   "outputs": [],
   "source": [
    "y = y.fillna(0.).sort_index()"
   ]
  },
  {
   "cell_type": "code",
   "execution_count": 8,
   "id": "57045ee1",
   "metadata": {},
   "outputs": [
    {
     "data": {
      "text/html": [
       "<div>\n",
       "<style scoped>\n",
       "    .dataframe tbody tr th:only-of-type {\n",
       "        vertical-align: middle;\n",
       "    }\n",
       "\n",
       "    .dataframe tbody tr th {\n",
       "        vertical-align: top;\n",
       "    }\n",
       "\n",
       "    .dataframe thead th {\n",
       "        text-align: right;\n",
       "    }\n",
       "</style>\n",
       "<table border=\"1\" class=\"dataframe\">\n",
       "  <thead>\n",
       "    <tr style=\"text-align: right;\">\n",
       "      <th></th>\n",
       "      <th>BasicEPS</th>\n",
       "    </tr>\n",
       "  </thead>\n",
       "  <tbody>\n",
       "    <tr>\n",
       "      <th>1985-09-30</th>\n",
       "      <td>0.0</td>\n",
       "    </tr>\n",
       "    <tr>\n",
       "      <th>1985-12-31</th>\n",
       "      <td>0.004</td>\n",
       "    </tr>\n",
       "    <tr>\n",
       "      <th>1986-03-31</th>\n",
       "      <td>0.002</td>\n",
       "    </tr>\n",
       "    <tr>\n",
       "      <th>1986-06-30</th>\n",
       "      <td>0.002</td>\n",
       "    </tr>\n",
       "    <tr>\n",
       "      <th>1986-09-30</th>\n",
       "      <td>0.0</td>\n",
       "    </tr>\n",
       "    <tr>\n",
       "      <th>...</th>\n",
       "      <td>...</td>\n",
       "    </tr>\n",
       "    <tr>\n",
       "      <th>2022-09-30</th>\n",
       "      <td>1.29</td>\n",
       "    </tr>\n",
       "    <tr>\n",
       "      <th>2022-12-31</th>\n",
       "      <td>1.89</td>\n",
       "    </tr>\n",
       "    <tr>\n",
       "      <th>2023-03-31</th>\n",
       "      <td>1.53</td>\n",
       "    </tr>\n",
       "    <tr>\n",
       "      <th>2023-06-30</th>\n",
       "      <td>1.27</td>\n",
       "    </tr>\n",
       "    <tr>\n",
       "      <th>2023-09-30</th>\n",
       "      <td>1.47</td>\n",
       "    </tr>\n",
       "  </tbody>\n",
       "</table>\n",
       "<p>153 rows × 1 columns</p>\n",
       "</div>"
      ],
      "text/plain": [
       "           BasicEPS\n",
       "1985-09-30      0.0\n",
       "1985-12-31    0.004\n",
       "1986-03-31    0.002\n",
       "1986-06-30    0.002\n",
       "1986-09-30      0.0\n",
       "...             ...\n",
       "2022-09-30     1.29\n",
       "2022-12-31     1.89\n",
       "2023-03-31     1.53\n",
       "2023-06-30     1.27\n",
       "2023-09-30     1.47\n",
       "\n",
       "[153 rows x 1 columns]"
      ]
     },
     "execution_count": 8,
     "metadata": {},
     "output_type": "execute_result"
    }
   ],
   "source": [
    "y"
   ]
  },
  {
   "cell_type": "markdown",
   "id": "f41c46a9",
   "metadata": {},
   "source": [
    "# 2.) Come up with 6 search terms you think could nowcast earnings. (Different than the ones I used) Add in 3 terms that that you think will not Nowcast earnings. Pull in the gtrends data. Clean it to have a quarterly average."
   ]
  },
  {
   "cell_type": "code",
   "execution_count": 7,
   "id": "9832021b",
   "metadata": {},
   "outputs": [],
   "source": [
    "from pytrends.request import TrendReq"
   ]
  },
  {
   "cell_type": "code",
   "execution_count": 9,
   "id": "36446546",
   "metadata": {},
   "outputs": [],
   "source": [
    "# Create pytrends object\n",
    "pytrends = TrendReq(hl='en-US', tz=360)\n",
    "\n",
    "# Set up the keywords and the timeframe\n",
    "keywords = [\"Apple revenue\",\n",
    "    \"iPhone sales\",\n",
    "    \"Apple stock price\",\n",
    "    \"MacBook demand\",\n",
    "    \"Apple services\",\n",
    "    \"iPad sales\",    \n",
    "    \"Apple pie recipe\",\n",
    "    \"New York weather\",\n",
    "    \"Hollywood movies\"]  \n",
    "start_date = '2004-01-01'\n",
    "end_date = '2024-01-01'\n",
    "\n",
    "# Create an empty DataFrame to store the results\n",
    "df = pd.DataFrame()\n",
    "\n",
    "# Iterate through keywords and fetch data\n",
    "for keyword in keywords:\n",
    "    pytrends.build_payload([keyword], cat=0, timeframe=f'{start_date} {end_date}', geo='', gprop='')\n",
    "    interest_over_time_df = pytrends.interest_over_time()\n",
    "    df[keyword] = interest_over_time_df[keyword]"
   ]
  },
  {
   "cell_type": "code",
   "execution_count": 14,
   "id": "2a8492c5",
   "metadata": {},
   "outputs": [],
   "source": [
    "X = df.resample(\"Q\").mean()"
   ]
  },
  {
   "cell_type": "code",
   "execution_count": 16,
   "id": "487f977e",
   "metadata": {},
   "outputs": [],
   "source": [
    "# ALIGN DATA\n",
    "temp = pd.concat([y, X],axis = 1).dropna()\n",
    "y = temp[[\"BasicEPS\"]].copy()\n",
    "X = temp.iloc[:,1:].copy()"
   ]
  },
  {
   "cell_type": "code",
   "execution_count": 13,
   "id": "aeb14ee8",
   "metadata": {},
   "outputs": [
    {
     "data": {
      "text/html": [
       "<div>\n",
       "<style scoped>\n",
       "    .dataframe tbody tr th:only-of-type {\n",
       "        vertical-align: middle;\n",
       "    }\n",
       "\n",
       "    .dataframe tbody tr th {\n",
       "        vertical-align: top;\n",
       "    }\n",
       "\n",
       "    .dataframe thead th {\n",
       "        text-align: right;\n",
       "    }\n",
       "</style>\n",
       "<table border=\"1\" class=\"dataframe\">\n",
       "  <thead>\n",
       "    <tr style=\"text-align: right;\">\n",
       "      <th></th>\n",
       "      <th>Apple revenue</th>\n",
       "      <th>iPhone sales</th>\n",
       "      <th>Apple stock price</th>\n",
       "      <th>MacBook demand</th>\n",
       "      <th>Apple services</th>\n",
       "      <th>iPad sales</th>\n",
       "      <th>Apple pie recipe</th>\n",
       "      <th>New York weather</th>\n",
       "      <th>Hollywood movies</th>\n",
       "    </tr>\n",
       "    <tr>\n",
       "      <th>date</th>\n",
       "      <th></th>\n",
       "      <th></th>\n",
       "      <th></th>\n",
       "      <th></th>\n",
       "      <th></th>\n",
       "      <th></th>\n",
       "      <th></th>\n",
       "      <th></th>\n",
       "      <th></th>\n",
       "    </tr>\n",
       "  </thead>\n",
       "  <tbody>\n",
       "    <tr>\n",
       "      <th>2004-03-31</th>\n",
       "      <td>19.000000</td>\n",
       "      <td>0.666667</td>\n",
       "      <td>0.666667</td>\n",
       "      <td>13.333333</td>\n",
       "      <td>34.333333</td>\n",
       "      <td>0.000000</td>\n",
       "      <td>12.666667</td>\n",
       "      <td>50.666667</td>\n",
       "      <td>8.333333</td>\n",
       "    </tr>\n",
       "    <tr>\n",
       "      <th>2004-06-30</th>\n",
       "      <td>0.000000</td>\n",
       "      <td>0.000000</td>\n",
       "      <td>1.000000</td>\n",
       "      <td>18.666667</td>\n",
       "      <td>41.333333</td>\n",
       "      <td>0.000000</td>\n",
       "      <td>10.333333</td>\n",
       "      <td>40.333333</td>\n",
       "      <td>9.000000</td>\n",
       "    </tr>\n",
       "    <tr>\n",
       "      <th>2004-09-30</th>\n",
       "      <td>0.000000</td>\n",
       "      <td>0.666667</td>\n",
       "      <td>0.333333</td>\n",
       "      <td>0.000000</td>\n",
       "      <td>43.000000</td>\n",
       "      <td>0.000000</td>\n",
       "      <td>18.666667</td>\n",
       "      <td>38.000000</td>\n",
       "      <td>8.000000</td>\n",
       "    </tr>\n",
       "    <tr>\n",
       "      <th>2004-12-31</th>\n",
       "      <td>13.333333</td>\n",
       "      <td>0.000000</td>\n",
       "      <td>0.666667</td>\n",
       "      <td>39.333333</td>\n",
       "      <td>37.000000</td>\n",
       "      <td>0.000000</td>\n",
       "      <td>36.000000</td>\n",
       "      <td>41.666667</td>\n",
       "      <td>7.666667</td>\n",
       "    </tr>\n",
       "    <tr>\n",
       "      <th>2005-03-31</th>\n",
       "      <td>23.000000</td>\n",
       "      <td>0.000000</td>\n",
       "      <td>2.000000</td>\n",
       "      <td>16.666667</td>\n",
       "      <td>51.000000</td>\n",
       "      <td>0.000000</td>\n",
       "      <td>10.666667</td>\n",
       "      <td>57.333333</td>\n",
       "      <td>7.333333</td>\n",
       "    </tr>\n",
       "    <tr>\n",
       "      <th>...</th>\n",
       "      <td>...</td>\n",
       "      <td>...</td>\n",
       "      <td>...</td>\n",
       "      <td>...</td>\n",
       "      <td>...</td>\n",
       "      <td>...</td>\n",
       "      <td>...</td>\n",
       "      <td>...</td>\n",
       "      <td>...</td>\n",
       "    </tr>\n",
       "    <tr>\n",
       "      <th>2023-03-31</th>\n",
       "      <td>80.666667</td>\n",
       "      <td>14.000000</td>\n",
       "      <td>34.666667</td>\n",
       "      <td>7.333333</td>\n",
       "      <td>76.666667</td>\n",
       "      <td>5.000000</td>\n",
       "      <td>10.000000</td>\n",
       "      <td>39.666667</td>\n",
       "      <td>23.666667</td>\n",
       "    </tr>\n",
       "    <tr>\n",
       "      <th>2023-06-30</th>\n",
       "      <td>79.000000</td>\n",
       "      <td>13.333333</td>\n",
       "      <td>33.000000</td>\n",
       "      <td>6.000000</td>\n",
       "      <td>75.666667</td>\n",
       "      <td>5.000000</td>\n",
       "      <td>8.000000</td>\n",
       "      <td>40.333333</td>\n",
       "      <td>25.666667</td>\n",
       "    </tr>\n",
       "    <tr>\n",
       "      <th>2023-09-30</th>\n",
       "      <td>82.666667</td>\n",
       "      <td>18.000000</td>\n",
       "      <td>31.333333</td>\n",
       "      <td>5.666667</td>\n",
       "      <td>85.000000</td>\n",
       "      <td>5.333333</td>\n",
       "      <td>15.333333</td>\n",
       "      <td>40.333333</td>\n",
       "      <td>26.666667</td>\n",
       "    </tr>\n",
       "    <tr>\n",
       "      <th>2023-12-31</th>\n",
       "      <td>91.000000</td>\n",
       "      <td>20.666667</td>\n",
       "      <td>27.666667</td>\n",
       "      <td>5.666667</td>\n",
       "      <td>81.000000</td>\n",
       "      <td>8.333333</td>\n",
       "      <td>36.666667</td>\n",
       "      <td>37.000000</td>\n",
       "      <td>25.333333</td>\n",
       "    </tr>\n",
       "    <tr>\n",
       "      <th>2024-03-31</th>\n",
       "      <td>87.000000</td>\n",
       "      <td>20.000000</td>\n",
       "      <td>30.000000</td>\n",
       "      <td>5.000000</td>\n",
       "      <td>83.000000</td>\n",
       "      <td>5.000000</td>\n",
       "      <td>10.000000</td>\n",
       "      <td>59.000000</td>\n",
       "      <td>24.000000</td>\n",
       "    </tr>\n",
       "  </tbody>\n",
       "</table>\n",
       "<p>81 rows × 9 columns</p>\n",
       "</div>"
      ],
      "text/plain": [
       "            Apple revenue  iPhone sales  Apple stock price  MacBook demand  \\\n",
       "date                                                                         \n",
       "2004-03-31      19.000000      0.666667           0.666667       13.333333   \n",
       "2004-06-30       0.000000      0.000000           1.000000       18.666667   \n",
       "2004-09-30       0.000000      0.666667           0.333333        0.000000   \n",
       "2004-12-31      13.333333      0.000000           0.666667       39.333333   \n",
       "2005-03-31      23.000000      0.000000           2.000000       16.666667   \n",
       "...                   ...           ...                ...             ...   \n",
       "2023-03-31      80.666667     14.000000          34.666667        7.333333   \n",
       "2023-06-30      79.000000     13.333333          33.000000        6.000000   \n",
       "2023-09-30      82.666667     18.000000          31.333333        5.666667   \n",
       "2023-12-31      91.000000     20.666667          27.666667        5.666667   \n",
       "2024-03-31      87.000000     20.000000          30.000000        5.000000   \n",
       "\n",
       "            Apple services  iPad sales  Apple pie recipe  New York weather  \\\n",
       "date                                                                         \n",
       "2004-03-31       34.333333    0.000000         12.666667         50.666667   \n",
       "2004-06-30       41.333333    0.000000         10.333333         40.333333   \n",
       "2004-09-30       43.000000    0.000000         18.666667         38.000000   \n",
       "2004-12-31       37.000000    0.000000         36.000000         41.666667   \n",
       "2005-03-31       51.000000    0.000000         10.666667         57.333333   \n",
       "...                    ...         ...               ...               ...   \n",
       "2023-03-31       76.666667    5.000000         10.000000         39.666667   \n",
       "2023-06-30       75.666667    5.000000          8.000000         40.333333   \n",
       "2023-09-30       85.000000    5.333333         15.333333         40.333333   \n",
       "2023-12-31       81.000000    8.333333         36.666667         37.000000   \n",
       "2024-03-31       83.000000    5.000000         10.000000         59.000000   \n",
       "\n",
       "            Hollywood movies  \n",
       "date                          \n",
       "2004-03-31          8.333333  \n",
       "2004-06-30          9.000000  \n",
       "2004-09-30          8.000000  \n",
       "2004-12-31          7.666667  \n",
       "2005-03-31          7.333333  \n",
       "...                      ...  \n",
       "2023-03-31         23.666667  \n",
       "2023-06-30         25.666667  \n",
       "2023-09-30         26.666667  \n",
       "2023-12-31         25.333333  \n",
       "2024-03-31         24.000000  \n",
       "\n",
       "[81 rows x 9 columns]"
      ]
     },
     "execution_count": 13,
     "metadata": {},
     "output_type": "execute_result"
    }
   ],
   "source": [
    "df"
   ]
  },
  {
   "cell_type": "markdown",
   "id": "73c7abb8",
   "metadata": {},
   "source": [
    "# 3.) Normalize all the X data"
   ]
  },
  {
   "cell_type": "code",
   "execution_count": 19,
   "id": "77671d95",
   "metadata": {},
   "outputs": [],
   "source": [
    "from sklearn.preprocessing import StandardScaler\n",
    "from sklearn.linear_model import Lasso\n",
    "from sklearn.model_selection import train_test_split"
   ]
  },
  {
   "cell_type": "code",
   "execution_count": 27,
   "id": "a8c3dade",
   "metadata": {},
   "outputs": [],
   "source": [
    "scaler = StandardScaler()\n",
    "X_scaled = scaler.fit_transform(X)"
   ]
  },
  {
   "cell_type": "code",
   "execution_count": null,
   "id": "4aae6546",
   "metadata": {},
   "outputs": [],
   "source": []
  },
  {
   "cell_type": "code",
   "execution_count": null,
   "id": "34c0e68d",
   "metadata": {},
   "outputs": [],
   "source": []
  },
  {
   "cell_type": "markdown",
   "id": "da43d5ef",
   "metadata": {},
   "source": [
    "# 4.) Run a Lasso with lambda . Plot a bar chart."
   ]
  },
  {
   "cell_type": "code",
   "execution_count": 36,
   "id": "b7ff06aa",
   "metadata": {},
   "outputs": [],
   "source": [
    "import matplotlib.pyplot as plt\n",
    "lasso  = Lasso(alpha=0.2)\n",
    "lasso= lasso.fit(X_scaled,y)"
   ]
  },
  {
   "cell_type": "code",
   "execution_count": 37,
   "id": "f7311bec",
   "metadata": {},
   "outputs": [
    {
     "data": {
      "text/plain": [
       "array([ 0.12931242,  0.        ,  0.12042171, -0.        ,  0.        ,\n",
       "       -0.        ,  0.        , -0.        ,  0.        ])"
      ]
     },
     "execution_count": 37,
     "metadata": {},
     "output_type": "execute_result"
    }
   ],
   "source": [
    "lasso.coef_"
   ]
  },
  {
   "cell_type": "code",
   "execution_count": 38,
   "id": "a85d03ad",
   "metadata": {},
   "outputs": [
    {
     "data": {
      "image/png": "[encoded data removed]",
      "text/plain": [
       "<Figure size 1600x500 with 1 Axes>"
      ]
     },
     "metadata": {},
     "output_type": "display_data"
    }
   ],
   "source": [
    "plt.figure( figsize =(16,5))\n",
    "# plt.bar(range(len(coefficients)), coefficients)\n",
    "plt.bar(X.columns, lasso.coef_)\n",
    "plt.axhline(0, color = 'red')\n",
    "plt.show()"
   ]
  },
  {
   "cell_type": "markdown",
   "id": "e130a2be",
   "metadata": {},
   "source": [
    "# 5.) Do these coefficient magnitudes make sense?"
   ]
  },
  {
   "cell_type": "markdown",
   "id": "d898ba6d",
   "metadata": {},
   "source": [
    "The non-zero coefficients for some of these terms (like \"Apple revenue\" or \"iPhone sales\") make sense, as these areas are likely to have a direct impact on Apple's earnings. Their search trends could reflect consumer interest and market trends, which are valuable for predicting earnings.\n",
    "\n",
    "\n",
    "The zero coefficients for variables like \"Apple pie recipe\", \"New York weather\", \"Hollywood movies\" here suggest that the corresponding features do not contribute meaningfully to the model, and Lasso has effectively removed them from the model. "
   ]
  },
  {
   "cell_type": "code",
   "execution_count": null,
   "id": "bda82fa9",
   "metadata": {},
   "outputs": [],
   "source": []
  }
 ],
 "metadata": {
  "kernelspec": {
   "display_name": "Python 3 (ipykernel)",
   "language": "python",
   "name": "python3"
  },
  "language_info": {
   "codemirror_mode": {
    "name": "ipython",
    "version": 3
   },
   "file_extension": ".py",
   "mimetype": "text/x-python",
   "name": "python",
   "nbconvert_exporter": "python",
   "pygments_lexer": "ipython3",
   "version": "3.11.5"
  }
 },
 "nbformat": 4,
 "nbformat_minor": 5
}
